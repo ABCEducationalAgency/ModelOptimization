{
 "cells": [
  {
   "cell_type": "markdown",
   "id": "5aed9526",
   "metadata": {},
   "source": [
    "## What is optimization?\n",
    "\n",
    "Model optimization refers to the process of improving a machine learning or deep learning model to achieve better performance, efficiency, or both. It can involve various techniques depending on the goal, such as increasing accuracy, reducing latency, lowering memory usage, or minimizing training time.\n",
    "\n",
    "___"
   ]
  },
  {
   "cell_type": "markdown",
   "id": "9e3775c3",
   "metadata": {},
   "source": [
    "## Optimizing and Satisficing Metrics\n",
    "\n",
    "https://medium.com/structuring-your-machine-learning-projects/satisficing-and-optimizing-metric-24372e0a73c\n",
    "\n",
    "An **optimizing metric** is the one you explicitly aim to maximize or minimize — it's your primary objective.\n",
    "\n",
    "A **satisficing metric** (from \"satisfy\" + \"suffice\") is a constraint that must reach or exceed a threshold, but doesn’t need to be further improved once that level is met.\n",
    "\n",
    "___"
   ]
  },
  {
   "cell_type": "markdown",
   "id": "73a70236",
   "metadata": {},
   "source": [
    "Imagine you're building an email spam model:\n",
    "\n",
    "1. Optimizing metric: Maximize Accuracy\n",
    "\n",
    "2. Satisficing metric: Ensure model size is 10 MB or less so that it runs on mobile devices.\n",
    "\n",
    "This means if you had three models with the following metrics.\n",
    "\n",
    "* Model A: 99% Accuracy, 15MB\n",
    "* Model B: 95% Accuracy, 10MB\n",
    "* Model C: 80% Accuracy, 8MB\n",
    "\n",
    "`You would pick Model B, because you need to satisfy the 10MB condition before picking the best accuracy.`\n",
    "\n",
    "___"
   ]
  },
  {
   "cell_type": "markdown",
   "id": "d4c40644",
   "metadata": {},
   "source": [
    "1. Algorithmic Optimization (Training-Level)\n",
    "\n",
    "    * Hyperparameter tuning: Adjusting parameters like learning rate, batch size, or image input size.\n",
    "    * Regularization: Techniques like L1/L2 regularization or dropout to prevent overfitting.\n",
    "    * Optimizer choice: Using optimizers like SGD, Adam, or RMSProp to improve convergence.\n",
    "\n",
    "2. Architectural Optimization\n",
    "\n",
    "    * Model Structure: Using less layers to create a smaller model that weighs less and performs faster.\n",
    "    * Model Compression: Compressing a model so that it taskes up less space.\n",
    "\n",
    "3. Inference-Time Optimization\n",
    "\n",
    "    * Caching the model and keeping it alive on RAM\n",
    "    * Serving the model on API's that allow parallel service.\n",
    "\n",
    "___\n"
   ]
  },
  {
   "cell_type": "markdown",
   "id": "7d36b2dc",
   "metadata": {},
   "source": [
    "Here are some metrics that are common to pick from. However, metrics are interconnected with each other, increase/decrease in one might increase/decrease the other.\n",
    "\n",
    "### Classification Metrics: \n",
    "\n",
    "* Accuracy (%)\n",
    "* Precision (%)\n",
    "* Recall (Sensitivity) (%)\n",
    "* F1 Score (%)\n",
    "* Specificity (%)\n",
    "\n",
    "### Efficiency / Deployment Metrics\n",
    "\n",
    "* Inference latency ( prediction speed ) (ms)\n",
    "* Memory footprint (MB)\n",
    "* Model size (MB)\n",
    "\n",
    "___"
   ]
  },
  {
   "cell_type": "markdown",
   "id": "20268447",
   "metadata": {},
   "source": [
    "If you are aiming to create a fast model ( Low Inference Latency ) with a small memory footprint, weighs a few MB and does not use a lot of energy. Start with a small custom model preferably with less layers. You can also use predefined models like mobilenet, or efficientnet.\n",
    "\n",
    "___"
   ]
  },
  {
   "cell_type": "markdown",
   "id": "f1d02ac0",
   "metadata": {},
   "source": [
    "If you are aiming to create a complex model that captures tiny predictions in your classification and requires high precision and recall or great accuracy, you might want to start of with a larger network.\n",
    "\n",
    "It is very complex to compress large networks down to small sizes like 10MB, it is possible but you might loose out on accuracy.\n",
    "\n",
    "___"
   ]
  }
 ],
 "metadata": {
  "language_info": {
   "name": "python"
  }
 },
 "nbformat": 4,
 "nbformat_minor": 5
}
