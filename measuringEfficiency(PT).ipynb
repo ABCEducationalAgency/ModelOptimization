{
 "cells": [
  {
   "cell_type": "markdown",
   "id": "0e42ca57",
   "metadata": {},
   "source": [
    "## Inference Latency"
   ]
  },
  {
   "cell_type": "code",
   "execution_count": 1,
   "id": "f47e746e",
   "metadata": {},
   "outputs": [
    {
     "name": "stdout",
     "output_type": "stream",
     "text": [
      "WARMING UP\n",
      "\n",
      "0: 640x640 1 cup, 1 banana, 97.3ms\n",
      "Speed: 0.0ms preprocess, 97.3ms inference, 7.3ms postprocess per image at shape (1, 3, 640, 640)\n",
      "__________________________________________\n",
      "\n",
      "0: 640x640 1 cup, 1 banana, 155.0ms\n",
      "Speed: 0.0ms preprocess, 155.0ms inference, 2.4ms postprocess per image at shape (1, 3, 640, 640)\n",
      "\n",
      "0: 640x640 1 cup, 1 banana, 79.7ms\n",
      "Speed: 0.0ms preprocess, 79.7ms inference, 2.7ms postprocess per image at shape (1, 3, 640, 640)\n",
      "\n",
      "0: 640x640 1 cup, 1 banana, 86.6ms\n",
      "Speed: 0.0ms preprocess, 86.6ms inference, 2.0ms postprocess per image at shape (1, 3, 640, 640)\n",
      "\n",
      "0: 640x640 1 cup, 1 banana, 72.2ms\n",
      "Speed: 0.0ms preprocess, 72.2ms inference, 2.1ms postprocess per image at shape (1, 3, 640, 640)\n",
      "\n",
      "0: 640x640 1 cup, 1 banana, 72.9ms\n",
      "Speed: 0.0ms preprocess, 72.9ms inference, 1.5ms postprocess per image at shape (1, 3, 640, 640)\n",
      "\n",
      "0: 640x640 1 cup, 1 banana, 85.8ms\n",
      "Speed: 0.0ms preprocess, 85.8ms inference, 1.7ms postprocess per image at shape (1, 3, 640, 640)\n",
      "\n",
      "0: 640x640 1 cup, 1 banana, 80.8ms\n",
      "Speed: 0.0ms preprocess, 80.8ms inference, 1.7ms postprocess per image at shape (1, 3, 640, 640)\n",
      "\n",
      "0: 640x640 1 cup, 1 banana, 81.3ms\n",
      "Speed: 0.0ms preprocess, 81.3ms inference, 2.0ms postprocess per image at shape (1, 3, 640, 640)\n",
      "\n",
      "0: 640x640 1 cup, 1 banana, 77.6ms\n",
      "Speed: 0.0ms preprocess, 77.6ms inference, 2.2ms postprocess per image at shape (1, 3, 640, 640)\n",
      "\n",
      "0: 640x640 1 cup, 1 banana, 83.6ms\n",
      "Speed: 0.0ms preprocess, 83.6ms inference, 2.2ms postprocess per image at shape (1, 3, 640, 640)\n",
      "\n",
      "Inference Latency: 92.65 ms\n",
      "Memory Usage (RAM): 409.06 MB\n",
      "Model Size Binary (.pt): 6.25 MB\n"
     ]
    }
   ],
   "source": [
    "from ultralytics import YOLO\n",
    "import torch\n",
    "import time\n",
    "import numpy as np\n",
    "from PIL import Image\n",
    "import os\n",
    "import psutil\n",
    "\n",
    "image_path = \"image.png\"\n",
    "model_path = \"yolov8n.pt\"\n",
    "\n",
    "model = YOLO(model_path)\n",
    "\n",
    "image = Image.open(image_path).convert('RGB')\n",
    "image = image.resize((640, 640))\n",
    "input_array = np.array(image).astype(np.float32) / 255.0\n",
    "input_tensor = torch.from_numpy(input_array).permute(2, 0, 1).unsqueeze(0)\n",
    "\n",
    "print(\"WARMING UP\")\n",
    "_ = model(input_tensor)\n",
    "print(\"__________________________________________\")\n",
    "\n",
    "repeats = 10\n",
    "\n",
    "latencies = []\n",
    "for _ in range(repeats):\n",
    "    start = time.time()\n",
    "    _ = model(input_tensor)\n",
    "    end = time.time()\n",
    "    latencies.append((end - start) * 1000)\n",
    "avg_latency = np.mean(latencies)\n",
    "print(f\"\\nInference Latency: {avg_latency:.2f} ms\")\n",
    "\n",
    "process = psutil.Process(os.getpid())\n",
    "mem_mb = process.memory_info().rss / 1e6\n",
    "print(f\"Memory Usage (RAM): {mem_mb:.2f} MB\")\n",
    "\n",
    "if os.path.exists(model_path):\n",
    "    file_size = os.path.getsize(model_path) / (1024 * 1024)\n",
    "    print(f\"Model Size Binary (.pt): {file_size:.2f} MB\")"
   ]
  }
 ],
 "metadata": {
  "kernelspec": {
   "display_name": "Python 3",
   "language": "python",
   "name": "python3"
  },
  "language_info": {
   "codemirror_mode": {
    "name": "ipython",
    "version": 3
   },
   "file_extension": ".py",
   "mimetype": "text/x-python",
   "name": "python",
   "nbconvert_exporter": "python",
   "pygments_lexer": "ipython3",
   "version": "3.9.6"
  }
 },
 "nbformat": 4,
 "nbformat_minor": 5
}
