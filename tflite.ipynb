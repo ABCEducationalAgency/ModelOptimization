{
 "cells": [
  {
   "cell_type": "code",
   "execution_count": 1,
   "id": "6cf89a5a",
   "metadata": {},
   "outputs": [
    {
     "name": "stdout",
     "output_type": "stream",
     "text": [
      "Prediction: Banana\n"
     ]
    },
    {
     "name": "stderr",
     "output_type": "stream",
     "text": [
      "INFO: Created TensorFlow Lite XNNPACK delegate for CPU.\n"
     ]
    }
   ],
   "source": [
    "import tensorflow as tf\n",
    "import numpy as np\n",
    "from PIL import Image\n",
    "\n",
    "classnames = [\"Apple\", \"Banana\", \"Orange\"] # Order them alphabetically\n",
    "\n",
    "interpreter = tf.lite.Interpreter(model_path=\"mobilenetv2ModelCompressed.tflite\")\n",
    "interpreter.allocate_tensors()\n",
    "\n",
    "input_details = interpreter.get_input_details()\n",
    "output_details = interpreter.get_output_details()\n",
    "\n",
    "input_shape = input_details[0]['shape']\n",
    "input_dtype = input_details[0]['dtype']\n",
    "\n",
    "image = Image.open(\"image.png\").convert('RGB')\n",
    "image = image.resize((input_shape[1], input_shape[2]))\n",
    "image_array = np.array(image).astype(input_dtype)\n",
    "input_data = np.expand_dims(image_array, axis=0)\n",
    "\n",
    "interpreter.set_tensor(input_details[0]['index'], input_data)\n",
    "interpreter.invoke()\n",
    "output_data = interpreter.get_tensor(output_details[0]['index'])\n",
    "\n",
    "print(\"Prediction:\", classnames[np.argmax(output_data[0])])"
   ]
  }
 ],
 "metadata": {
  "kernelspec": {
   "display_name": "Python 3",
   "language": "python",
   "name": "python3"
  },
  "language_info": {
   "codemirror_mode": {
    "name": "ipython",
    "version": 3
   },
   "file_extension": ".py",
   "mimetype": "text/x-python",
   "name": "python",
   "nbconvert_exporter": "python",
   "pygments_lexer": "ipython3",
   "version": "3.9.6"
  }
 },
 "nbformat": 4,
 "nbformat_minor": 5
}
